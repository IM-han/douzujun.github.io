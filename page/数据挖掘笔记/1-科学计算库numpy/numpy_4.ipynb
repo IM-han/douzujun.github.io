{
 "cells": [
  {
   "cell_type": "code",
   "execution_count": 2,
   "metadata": {
    "collapsed": false
   },
   "outputs": [
    {
     "name": "stdout",
     "output_type": "stream",
     "text": [
      "[0 1 2]\n",
      "[ 1.          2.71828183  7.3890561 ]\n",
      "[ 0.          1.          1.41421356]\n"
     ]
    }
   ],
   "source": [
    "import numpy as np\n",
    "B = np.arange(3)\n",
    "print (B)\n",
    "print (np.exp(B))\n",
    "print( np.sqrt(B))"
   ]
  },
  {
   "cell_type": "code",
   "execution_count": 3,
   "metadata": {
    "collapsed": false
   },
   "outputs": [
    {
     "name": "stdout",
     "output_type": "stream",
     "text": [
      "[[ 9.  7.  8.  5.]\n",
      " [ 6.  0.  6.  1.]\n",
      " [ 5.  6.  7.  3.]]\n",
      "[ 9.  7.  8.  5.  6.  0.  6.  1.  5.  6.  7.  3.]\n",
      "[[ 9.  7.]\n",
      " [ 8.  5.]\n",
      " [ 6.  0.]\n",
      " [ 6.  1.]\n",
      " [ 5.  6.]\n",
      " [ 7.  3.]]\n",
      "[[ 9.  8.  6.  6.  5.  7.]\n",
      " [ 7.  5.  0.  1.  6.  3.]]\n",
      "None\n",
      "[[ 9.  7.  8.  5.  6.  0.]\n",
      " [ 6.  1.  5.  6.  7.  3.]]\n",
      "--------------------\n",
      "[[ 9.  7.  8.  5.]\n",
      " [ 6.  0.  6.  1.]\n",
      " [ 5.  6.  7.  3.]]\n"
     ]
    }
   ],
   "source": [
    "#Return the floor of the input\n",
    "a = np.floor(10*np.random.random((3,4)))\n",
    "print( a)\n",
    "\n",
    "# a.shape\n",
    "# flatten the array\n",
    "print (a.ravel())      # 矩阵拉成向量\n",
    "\n",
    "a.shape = (6, 2)       # 重新设置shape\n",
    "print (a )\n",
    "print (a.T)\n",
    "print (a.resize((2,6)))\n",
    "print (a)\n",
    "\n",
    "#If a dimension is given as -1 in a reshaping operation, the other dimensions are automatically calculated:\n",
    "print('--------------------')\n",
    "print(a.reshape(3,-1))  # 自己去计算维度（用-1）"
   ]
  },
  {
   "cell_type": "code",
   "execution_count": 4,
   "metadata": {
    "collapsed": false
   },
   "outputs": [
    {
     "name": "stdout",
     "output_type": "stream",
     "text": [
      "[[ 7.  4.]\n",
      " [ 2.  2.]]\n",
      "---\n",
      "[[ 5.  6.]\n",
      " [ 1.  5.]]\n",
      "---\n",
      "[[ 7.  4.  5.  6.]\n",
      " [ 2.  2.  1.  5.]]\n",
      "---\n",
      "[[ 7.  4.]\n",
      " [ 2.  2.]\n",
      " [ 5.  6.]\n",
      " [ 1.  5.]]\n"
     ]
    }
   ],
   "source": [
    "a = np.floor(10*np.random.random((2,2)))\n",
    "b = np.floor(10*np.random.random((2,2)))\n",
    "print (a)\n",
    "print ('---')\n",
    "print (b)\n",
    "print ('---')\n",
    "print (np.hstack((a,b)))     # 水平叠加操作\n",
    "# np.hstack((a,b))\n",
    "\n",
    "print ('---')\n",
    "print (np.vstack((a,b)))     # 垂直叠加操作"
   ]
  },
  {
   "cell_type": "code",
   "execution_count": 5,
   "metadata": {
    "collapsed": false
   },
   "outputs": [
    {
     "name": "stdout",
     "output_type": "stream",
     "text": [
      "[[ 4.  6.  0.  8.  6.  4.  1.  9.  1.  7.  8.  1.]\n",
      " [ 2.  0.  0.  8.  9.  4.  4.  3.  2.  4.  4.  5.]]\n",
      "----------------------\n",
      "[array([[ 4.,  6.,  0.,  8.],\n",
      "       [ 2.,  0.,  0.,  8.]]), array([[ 6.,  4.,  1.,  9.],\n",
      "       [ 9.,  4.,  4.,  3.]]), array([[ 1.,  7.,  8.,  1.],\n",
      "       [ 2.,  4.,  4.,  5.]])]\n",
      "----------------------\n",
      "[array([[ 4.,  6.,  0.],\n",
      "       [ 2.,  0.,  0.]]), array([[ 8.],\n",
      "       [ 8.]]), array([[ 6.,  4.,  1.,  9.,  1.,  7.,  8.,  1.],\n",
      "       [ 9.,  4.,  4.,  3.,  2.,  4.,  4.,  5.]])]\n",
      "----------------------\n",
      "[[ 1.  9.]\n",
      " [ 4.  4.]\n",
      " [ 5.  4.]\n",
      " [ 7.  2.]\n",
      " [ 0.  3.]\n",
      " [ 2.  3.]\n",
      " [ 9.  5.]\n",
      " [ 8.  6.]\n",
      " [ 6.  2.]\n",
      " [ 2.  6.]\n",
      " [ 8.  1.]\n",
      " [ 2.  5.]]\n",
      "----------------------\n",
      "[array([[ 1.,  9.],\n",
      "       [ 4.,  4.],\n",
      "       [ 5.,  4.],\n",
      "       [ 7.,  2.]]), array([[ 0.,  3.],\n",
      "       [ 2.,  3.],\n",
      "       [ 9.,  5.],\n",
      "       [ 8.,  6.]]), array([[ 6.,  2.],\n",
      "       [ 2.,  6.],\n",
      "       [ 8.,  1.],\n",
      "       [ 2.,  5.]])]\n"
     ]
    }
   ],
   "source": [
    "a = np.floor(10*np.random.random((2,12)))\n",
    "print (a)\n",
    "print('----------------------')\n",
    "print (np.hsplit(a,3))\n",
    "\n",
    "print('----------------------')\n",
    "print (np.hsplit(a,(3,4)))   # Split a after the third and the fourth column, 指定的位置\n",
    "\n",
    "\n",
    "a = np.floor(10*np.random.random((12,2)))\n",
    "print('----------------------')\n",
    "print( a)\n",
    "\n",
    "print('----------------------')\n",
    "print(np.vsplit(a,3))"
   ]
  },
  {
   "cell_type": "code",
   "execution_count": 6,
   "metadata": {
    "collapsed": false
   },
   "outputs": [
    {
     "name": "stdout",
     "output_type": "stream",
     "text": [
      "(3, 4)\n",
      "87037952\n",
      "87037952\n"
     ]
    }
   ],
   "source": [
    "#Simple assignments make no copy of array objects or of their data.\n",
    "a = np.arange(12)\n",
    "b = a\n",
    "# a and b are two names for the same ndarray object\n",
    "b is a\n",
    "b.shape = 3,4\n",
    "print( a.shape)\n",
    "print( id(a))\n",
    "print( id(b))"
   ]
  },
  {
   "cell_type": "code",
   "execution_count": 10,
   "metadata": {
    "collapsed": false
   },
   "outputs": [
    {
     "name": "stdout",
     "output_type": "stream",
     "text": [
      "False\n",
      "(3, 4)\n",
      "[[   0    1    2    3]\n",
      " [1234    5    6    7]\n",
      " [   8    9   10   11]]\n",
      "87037952\n",
      "87006384\n"
     ]
    }
   ],
   "source": [
    "#The view method creates a new array object that looks at the same data.\n",
    "c = a.view()     # a, c虽然指向不同地方，但是里面公用了一个值\n",
    "print(c is a)\n",
    "c.shape = 2,6\n",
    "print( a.shape)\n",
    "c[0,4] = 1234\n",
    "print(a)\n",
    "print(id(a))\n",
    "print(id(c))"
   ]
  },
  {
   "cell_type": "code",
   "execution_count": 12,
   "metadata": {
    "collapsed": false
   },
   "outputs": [
    {
     "name": "stdout",
     "output_type": "stream",
     "text": [
      "False\n",
      "[[9999    1    2    3]\n",
      " [1234    5    6    7]\n",
      " [   8    9   10   11]]\n",
      "[[   0    1    2    3]\n",
      " [1234    5    6    7]\n",
      " [   8    9   10   11]]\n"
     ]
    }
   ],
   "source": [
    "#The copy method makes a complete copy of the array and its data.\n",
    "d = a.copy() \n",
    "print(d is a)\n",
    "d[0,0] = 9999\n",
    "print (d)\n",
    "print (a)"
   ]
  },
  {
   "cell_type": "code",
   "execution_count": null,
   "metadata": {
    "collapsed": true
   },
   "outputs": [],
   "source": []
  }
 ],
 "metadata": {
  "kernelspec": {
   "display_name": "Python 3",
   "language": "python",
   "name": "python3"
  },
  "language_info": {
   "codemirror_mode": {
    "name": "ipython",
    "version": 3
   },
   "file_extension": ".py",
   "mimetype": "text/x-python",
   "name": "python",
   "nbconvert_exporter": "python",
   "pygments_lexer": "ipython3",
   "version": "3.5.1"
  }
 },
 "nbformat": 4,
 "nbformat_minor": 1
}
